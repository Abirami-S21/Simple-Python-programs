{
 "cells": [
  {
   "cell_type": "code",
   "execution_count": null,
   "metadata": {},
   "outputs": [
    {
     "name": "stdout",
     "output_type": "stream",
     "text": [
      "Enter the date in dd mm year as space separated integers\n",
      "08 07 2021\n",
      "00 days :02 hours :18 minutes : 44 seconds\r"
     ]
    }
   ],
   "source": [
    "import time   \n",
    "import datetime\n",
    "\n",
    "\n",
    "# Get the input in dd/mm/year format\n",
    "print('Enter the date in dd mm year as space separated integers')\n",
    "[dd,mm,year]=list(map(int,input().split()))\n",
    "\n",
    "#Get today's date using datetime module\n",
    "today=datetime.datetime.now().date()\n",
    "\n",
    "#convert the date as date/month/year format\n",
    "today_date = today.strftime(\"%d/%m/%Y\")\n",
    "[ddtoday,mmtoday,yeartoday]=list(map(int,today_date.split('/')))\n",
    "\n",
    "# Get the time object from datetime module\n",
    "now = datetime.datetime.now().time() \n",
    "\n",
    "#convert the time as hour/minute/second format\n",
    "now_time = now.strftime(\"%H:%M:%S\")\n",
    "[hr,mins,sec]=list(map(int,now_time.split(':')))\n",
    "\n",
    "#Using timedelta to get the difference between two dates\n",
    "given_date = datetime.datetime(year,mm,dd,00,00,00) \n",
    "today_date = datetime.datetime(yeartoday,mmtoday,ddtoday,hr,mins,sec) \n",
    "diff = given_date-today_date\n",
    "\n",
    "\n",
    "\n",
    "#From the output of timedelta function, calculate the remaining number of days, hours, minutes and seconds\n",
    "diff_string=str(diff)\n",
    "if ',' in diff_string:\n",
    "    [a,b]=diff_string.split(',')\n",
    "    dayss=int(a.split(' ')[0])\n",
    "    [h,m,s]=list(map(int,b.split(':')))\n",
    "else:\n",
    "    b=diff_string\n",
    "    dayss= 0\n",
    "    [h,m,s]=list(map(int,b.split(':')))\n",
    "\n",
    "#If any of the values is negative, that means user entered a past date which is not valid for a countdowntimer\n",
    "if (dayss<0) or (h<0) or (m<0) or (s<0):\n",
    "    print('The given date is not a valid date')\n",
    "    \n",
    "#If all the values are positive, the timer can run  \n",
    "else:\n",
    "    \n",
    "    #Calculate the total number of seconds \n",
    "    total=(dayss*24*60*60)+diff.seconds \n",
    "    \n",
    "    #the timer has to run until the total no. of seconds become zero\n",
    "    #Interrupt the kernel to stop the timer in between\n",
    "    while total:\n",
    "        \n",
    "        #calculate the no. of seconds, minutes, hours,days using the total no. of seconds\n",
    "        mz,sz=divmod(total,60)   \n",
    "        hz,mz=divmod(mz,60)\n",
    "        dz,hz=divmod(hz,24)\n",
    "        \n",
    "        #Display the timer in the days, hours, minutes,seconds format\n",
    "        timer = '{:02d} days :{:02d} hours :{:02d} minutes : {:02d} seconds'.format(dz,hz,mz,sz) \n",
    "        \n",
    "        print(timer, end=\"\\r\") \n",
    "        \n",
    "        #Pause the timer for 1 second\n",
    "        time.sleep(1)\n",
    "        \n",
    "        #Decrement the total number of seconds by 1\n",
    "        total=total-1"
   ]
  },
  {
   "cell_type": "code",
   "execution_count": null,
   "metadata": {},
   "outputs": [],
   "source": []
  }
 ],
 "metadata": {
  "kernelspec": {
   "display_name": "Python 3",
   "language": "python",
   "name": "python3"
  },
  "language_info": {
   "codemirror_mode": {
    "name": "ipython",
    "version": 3
   },
   "file_extension": ".py",
   "mimetype": "text/x-python",
   "name": "python",
   "nbconvert_exporter": "python",
   "pygments_lexer": "ipython3",
   "version": "3.7.6"
  }
 },
 "nbformat": 4,
 "nbformat_minor": 4
}
