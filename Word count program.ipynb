{
 "cells": [
  {
   "cell_type": "code",
   "execution_count": 60,
   "id": "54621385",
   "metadata": {},
   "outputs": [],
   "source": [
    "def stringtranslate(text):\n",
    "    from string import ascii_lowercase, ascii_uppercase, punctuation\n",
    "    table = str.maketrans(ascii_uppercase, ascii_lowercase, punctuation) #https://www.geeksforgeeks.org/python-maketrans-translate-functions/\n",
    "    text_output=text.translate(table)\n",
    "    #print(text.translate(table))\n",
    "    text_list=text_output.split()\n",
    "    return text_list"
   ]
  },
  {
   "cell_type": "code",
   "execution_count": 61,
   "id": "248cf2fc",
   "metadata": {},
   "outputs": [],
   "source": [
    "def wordcount(text):\n",
    "    count=dict()\n",
    "    words = stringtranslate(text)\n",
    "    for i in words:\n",
    "        if i.isdigit():   \n",
    "            if 'NUMBER' in count:\n",
    "                count['NUMBER'] += 1\n",
    "                \n",
    "            else:\n",
    "                count['NUMBER'] = 1\n",
    "        else:          \n",
    "            if i in count:\n",
    "                count[i] +=1\n",
    "            \n",
    "            else:\n",
    "                count[i]=1\n",
    "    return count"
   ]
  },
  {
   "cell_type": "code",
   "execution_count": 62,
   "id": "374d6857",
   "metadata": {},
   "outputs": [
    {
     "name": "stdout",
     "output_type": "stream",
     "text": [
      "'There are 26 alphabets, and there are 5 vowels.'\n",
      "{'there': 2, 'are': 2, 'NUMBER': 2, 'alphabets': 1, 'and': 1, 'vowels': 1}\n"
     ]
    }
   ],
   "source": [
    "text=input()\n",
    "print(wordcount(text))"
   ]
  },
  {
   "cell_type": "code",
   "execution_count": null,
   "id": "44199b55",
   "metadata": {},
   "outputs": [],
   "source": []
  }
 ],
 "metadata": {
  "kernelspec": {
   "display_name": "Python 3 (ipykernel)",
   "language": "python",
   "name": "python3"
  },
  "language_info": {
   "codemirror_mode": {
    "name": "ipython",
    "version": 3
   },
   "file_extension": ".py",
   "mimetype": "text/x-python",
   "name": "python",
   "nbconvert_exporter": "python",
   "pygments_lexer": "ipython3",
   "version": "3.9.7"
  }
 },
 "nbformat": 4,
 "nbformat_minor": 5
}
